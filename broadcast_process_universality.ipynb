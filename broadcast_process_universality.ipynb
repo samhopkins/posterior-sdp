{
 "cells": [
  {
   "cell_type": "code",
   "execution_count": 62,
   "metadata": {},
   "outputs": [],
   "source": [
    "import numpy as np\n",
    "from scipy.stats import bernoulli\n",
    "import random\n",
    "import matplotlib.pyplot as plt\n",
    "%matplotlib inline"
   ]
  },
  {
   "cell_type": "code",
   "execution_count": 4,
   "metadata": {},
   "outputs": [],
   "source": [
    "def get_tree(depth,degree):\n",
    "    tree = {}\n",
    "    tree['children'] = []\n",
    "    if depth > 0:\n",
    "        for i in range(degree):\n",
    "            tree['children'].append(get_tree(depth-1,degree))\n",
    "    return tree\n",
    "\n",
    "#assumes root is assigned, propagates to children\n",
    "def broadcast(root,eps):\n",
    "    for child in root['children']:\n",
    "        coin = bernoulli.rvs(0.5+eps)\n",
    "        if coin==1:\n",
    "            child['sign'] = root['sign']\n",
    "        else:\n",
    "            child['sign'] = 1-root['sign']\n",
    "        broadcast(child,eps)\n",
    "        \n",
    "        \n",
    "def infer_root_p1(root,eps):\n",
    "    if root['children'] == []:\n",
    "        root['p1'] = root['sign']\n",
    "    else:\n",
    "        for child in root['children']:\n",
    "            infer_root_p1(child,eps)\n",
    "        \n",
    "        weights1 = [(0.5+eps)*child['p1'] + (0.5-eps)*(1 - child['p1']) for child in root['children']]\n",
    "        weights0 = [(0.5-eps)*child['p1'] + (0.5+eps)*(1-child['p1']) for child in root['children']]\n",
    "        \n",
    "        w1 = np.prod(weights1)\n",
    "        w0 = np.prod(weights0)\n",
    "        z = w1 + w0\n",
    "        root['p1'] = w1/z\n",
    "\n",
    "def assign_leaf_potentials(root,f):\n",
    "    if root['children'] == []:\n",
    "        if root['sign'] == 1:\n",
    "            root['sign'] = f()\n",
    "        else:\n",
    "            root['sign'] = 1-f()\n",
    "    else:\n",
    "        for child in root['children']:\n",
    "            assign_leaf_potentials(child,f)"
   ]
  },
  {
   "cell_type": "code",
   "execution_count": 89,
   "metadata": {},
   "outputs": [],
   "source": [
    "def get_empirical_dist(depth,degree,eps):\n",
    "    emp_dist = []\n",
    "    for i in range(10000):\n",
    "        t = get_tree(depth,degree)\n",
    "        t['sign'] = 1\n",
    "        broadcast(t,eps)\n",
    "        infer_root_p1(t,eps)\n",
    "        emp_dist.append(t['p1'])\n",
    "    return emp_dist"
   ]
  },
  {
   "cell_type": "code",
   "execution_count": 90,
   "metadata": {},
   "outputs": [],
   "source": [
    "theta = get_empirical_dist(8,2,0.35)"
   ]
  },
  {
   "cell_type": "code",
   "execution_count": 92,
   "metadata": {
    "scrolled": true
   },
   "outputs": [
    {
     "name": "stdout",
     "output_type": "stream",
     "text": [
      "0.5962453160692799\n",
      "0.1971978337388209\n"
     ]
    },
    {
     "data": {
      "text/plain": [
       "(array([ 16.,  13.,  31.,  34.,  52.,  65.,  74.,  76., 106., 124., 108.,\n",
       "        120., 104., 150., 130., 163., 171., 189., 193., 204., 215., 212.,\n",
       "        233., 227., 224., 257., 278., 283., 280., 304., 296., 287., 308.,\n",
       "        299., 301., 301., 313., 309., 316., 348., 314., 329., 305., 292.,\n",
       "        277., 244., 217., 183.,  94.,  31.]),\n",
       " array([0.07528891, 0.09265596, 0.11002301, 0.12739006, 0.14475712,\n",
       "        0.16212417, 0.17949122, 0.19685827, 0.21422532, 0.23159237,\n",
       "        0.24895942, 0.26632648, 0.28369353, 0.30106058, 0.31842763,\n",
       "        0.33579468, 0.35316173, 0.37052878, 0.38789584, 0.40526289,\n",
       "        0.42262994, 0.43999699, 0.45736404, 0.47473109, 0.49209814,\n",
       "        0.5094652 , 0.52683225, 0.5441993 , 0.56156635, 0.5789334 ,\n",
       "        0.59630045, 0.6136675 , 0.63103456, 0.64840161, 0.66576866,\n",
       "        0.68313571, 0.70050276, 0.71786981, 0.73523687, 0.75260392,\n",
       "        0.76997097, 0.78733802, 0.80470507, 0.82207212, 0.83943917,\n",
       "        0.85680623, 0.87417328, 0.89154033, 0.90890738, 0.92627443,\n",
       "        0.94364148]),\n",
       " <a list of 50 Patch objects>)"
      ]
     },
     "execution_count": 92,
     "metadata": {},
     "output_type": "execute_result"
    },
    {
     "data": {
      "image/png": "[encoded data removed]",
      "text/plain": [
       "<Figure size 432x288 with 1 Axes>"
      ]
     },
     "metadata": {
      "needs_background": "light"
     },
     "output_type": "display_data"
    }
   ],
   "source": [
    "print(np.mean(theta))\n",
    "print(np.sqrt(np.var(theta)))\n",
    "plt.hist(theta,50)"
   ]
  },
  {
   "cell_type": "code",
   "execution_count": 96,
   "metadata": {},
   "outputs": [
    {
     "name": "stdout",
     "output_type": "stream",
     "text": [
      "0.5675443033759188\n",
      "0.17045469380989423\n"
     ]
    },
    {
     "data": {
      "text/plain": [
       "(array([  2.,   8.,  10.,  16.,  31.,  41.,  51.,  67.,  89.,  87., 131.,\n",
       "        123., 167., 140., 172., 180., 193., 199., 235., 251., 244., 313.,\n",
       "        280., 274., 323., 302., 312., 318., 324., 346., 324., 369., 337.,\n",
       "        333., 369., 327., 335., 320., 330., 297., 260., 256., 240., 203.,\n",
       "        175., 115., 100.,  56.,  20.,   5.]),\n",
       " array([0.08805075, 0.1048327 , 0.12161465, 0.1383966 , 0.15517855,\n",
       "        0.17196049, 0.18874244, 0.20552439, 0.22230634, 0.23908829,\n",
       "        0.25587024, 0.27265219, 0.28943414, 0.30621609, 0.32299804,\n",
       "        0.33977999, 0.35656193, 0.37334388, 0.39012583, 0.40690778,\n",
       "        0.42368973, 0.44047168, 0.45725363, 0.47403558, 0.49081753,\n",
       "        0.50759948, 0.52438143, 0.54116338, 0.55794532, 0.57472727,\n",
       "        0.59150922, 0.60829117, 0.62507312, 0.64185507, 0.65863702,\n",
       "        0.67541897, 0.69220092, 0.70898287, 0.72576482, 0.74254676,\n",
       "        0.75932871, 0.77611066, 0.79289261, 0.80967456, 0.82645651,\n",
       "        0.84323846, 0.86002041, 0.87680236, 0.89358431, 0.91036626,\n",
       "        0.9271482 ]),\n",
       " <a list of 50 Patch objects>)"
      ]
     },
     "execution_count": 96,
     "metadata": {},
     "output_type": "execute_result"
    },
    {
     "data": {
      "image/png": "[encoded data removed]",
      "text/plain": [
       "<Figure size 432x288 with 1 Axes>"
      ]
     },
     "metadata": {
      "needs_background": "light"
     },
     "output_type": "display_data"
    }
   ],
   "source": [
    "# testing fixed-point ness\n",
    "\n",
    "def f():\n",
    "    return random.choice(theta)\n",
    "\n",
    "emp_dist = []\n",
    "for i in range(10000):\n",
    "    t = get_tree(4,2)\n",
    "    t['sign'] = 1\n",
    "    broadcast(t,0.35)\n",
    "    assign_leaf_potentials(t,f)\n",
    "    infer_root_p1(t,0.35)\n",
    "    emp_dist.append(t['p1'])\n",
    "\n",
    "print(np.mean(emp_dist))\n",
    "print(np.sqrt(np.var(emp_dist)))\n",
    "\n",
    "plt.hist(emp_dist,50)"
   ]
  },
  {
   "cell_type": "code",
   "execution_count": 99,
   "metadata": {},
   "outputs": [
    {
     "name": "stdout",
     "output_type": "stream",
     "text": [
      "0.5739788216649723\n",
      "0.18615668214160264\n"
     ]
    },
    {
     "data": {
      "text/plain": [
       "(array([  0.,   2.,   2.,   3.,   9.,  21.,  34.,  42.,  65.,  86.,  90.,\n",
       "        107., 125., 161., 166., 157., 194., 250., 237., 246., 253., 296.,\n",
       "        242., 280., 321., 345., 358., 344., 387., 384., 370., 372., 387.,\n",
       "        363., 380., 400., 353., 381., 315., 307., 293., 241., 219., 170.,\n",
       "        117.,  83.,  31.,   9.,   1.,   0.]),\n",
       " array([0.  , 0.02, 0.04, 0.06, 0.08, 0.1 , 0.12, 0.14, 0.16, 0.18, 0.2 ,\n",
       "        0.22, 0.24, 0.26, 0.28, 0.3 , 0.32, 0.34, 0.36, 0.38, 0.4 , 0.42,\n",
       "        0.44, 0.46, 0.48, 0.5 , 0.52, 0.54, 0.56, 0.58, 0.6 , 0.62, 0.64,\n",
       "        0.66, 0.68, 0.7 , 0.72, 0.74, 0.76, 0.78, 0.8 , 0.82, 0.84, 0.86,\n",
       "        0.88, 0.9 , 0.92, 0.94, 0.96, 0.98, 1.  ]),\n",
       " <a list of 50 Patch objects>)"
      ]
     },
     "execution_count": 99,
     "metadata": {},
     "output_type": "execute_result"
    },
    {
     "data": {
      "image/png": "[encoded data removed]",
      "text/plain": [
       "<Figure size 432x288 with 1 Axes>"
      ]
     },
     "metadata": {
      "needs_background": "light"
     },
     "output_type": "display_data"
    }
   ],
   "source": [
    "# testing universality\n",
    "\n",
    "def f():\n",
    "    return 0.59 + 0.2*np.random.randn()\n",
    "\n",
    "emp_dist = []\n",
    "for i in range(10000):\n",
    "    t = get_tree(2,2)\n",
    "    t['sign'] = 1\n",
    "    broadcast(t,0.35)\n",
    "    assign_leaf_potentials(t,f)\n",
    "    infer_root_p1(t,0.35)\n",
    "    emp_dist.append(t['p1'])\n",
    "\n",
    "print(np.mean(emp_dist))\n",
    "print(np.sqrt(np.var(emp_dist)))\n",
    "plt.hist(emp_dist,50,range=[0,1])"
   ]
  },
  {
   "cell_type": "code",
   "execution_count": 51,
   "metadata": {},
   "outputs": [
    {
     "data": {
      "text/plain": [
       "True"
      ]
     },
     "execution_count": 51,
     "metadata": {},
     "output_type": "execute_result"
    }
   ],
   "source": []
  },
  {
   "cell_type": "code",
   "execution_count": 55,
   "metadata": {},
   "outputs": [
    {
     "data": {
      "text/plain": [
       "0.9596281157468194"
      ]
     },
     "execution_count": 55,
     "metadata": {},
     "output_type": "execute_result"
    }
   ],
   "source": [
    "np.random.randn()"
   ]
  },
  {
   "cell_type": "code",
   "execution_count": null,
   "metadata": {},
   "outputs": [],
   "source": []
  }
 ],
 "metadata": {
  "kernelspec": {
   "display_name": "Python 3",
   "language": "python",
   "name": "python3"
  },
  "language_info": {
   "codemirror_mode": {
    "name": "ipython",
    "version": 3
   },
   "file_extension": ".py",
   "mimetype": "text/x-python",
   "name": "python",
   "nbconvert_exporter": "python",
   "pygments_lexer": "ipython3",
   "version": "3.7.0"
  }
 },
 "nbformat": 4,
 "nbformat_minor": 2
}
